{
 "cells": [
  {
   "cell_type": "markdown",
   "id": "1c41d9d0",
   "metadata": {},
   "source": [
    "# ROCK,PAPER AND SCISSOR"
   ]
  },
  {
   "cell_type": "code",
   "execution_count": 15,
   "id": "2377cdb5",
   "metadata": {},
   "outputs": [
    {
     "name": "stdout",
     "output_type": "stream",
     "text": [
      "-------------RULES OF THE GAME-----------------\n",
      "**************************************************\n",
      "Rules are same as real world ROCK PAPER SCISSOR.\n",
      "LETS START\n",
      "ENTER R,P,S :P\n",
      "Both the players selected P\n",
      "Its a tie try again.\n",
      "------------------END--------------------------\n",
      "---------THANK YOU------------------------\n"
     ]
    }
   ],
   "source": [
    "print(\"-------------RULES OF THE GAME-----------------\")\n",
    "print(\"*\"*50)\n",
    "print(\"Rules are same as real world ROCK PAPER SCISSOR.\\nLETS START\")\n",
    "import random\n",
    "user1 = str(input(\"ENTER R,P,S :\"))\n",
    "possible_actions = [\"R\",\"P\",\"S\"]\n",
    "comp = random.choice(possible_actions)\n",
    "if(user1==comp):\n",
    "    print(\"Both the players selected {User1}\".format(User1=user1))\n",
    "    print(\"Its a tie try again.\")\n",
    "elif(user1=='R'):\n",
    "    if(comp=='S'):\n",
    "        print(\"ROCK SMASHES THE SCISSOR.YOU WIN!!\")\n",
    "    else:\n",
    "        print(\"PAPER COVERS THE ROCK.BETTER LUCK NEXT TIME.\")\n",
    "elif(user1=='S'):\n",
    "    if(comp=='P'):\n",
    "        print(\"SCISSOR CUTS PAPER!YOU HAVE BEATEN COMPUTER.\")\n",
    "    else:\n",
    "        print(\"ROCK SMASHED YOUR SCISSOR!ALAS YOU LOOSE.\")\n",
    "elif(user=='P'):\n",
    "    if(comp=='R'):\n",
    "        print(\"PAPER COVER THE ROCK!HURRAY YOU WIN.\")\n",
    "    else:\n",
    "        print(\"SCISSOR CUT PAPER!YOU LOOSE.\")\n",
    "else:\n",
    "    print(\"ERROR CHOOSE CORRECT INPUT.\")\n",
    "print(\"------------------END--------------------------\")\n",
    "print(\"---------THANK YOU------------------------\")\n",
    "    \n"
   ]
  },
  {
   "cell_type": "code",
   "execution_count": null,
   "id": "4b3410c9",
   "metadata": {},
   "outputs": [],
   "source": []
  },
  {
   "cell_type": "code",
   "execution_count": null,
   "id": "e664bd17",
   "metadata": {},
   "outputs": [],
   "source": []
  }
 ],
 "metadata": {
  "kernelspec": {
   "display_name": "Python 3",
   "language": "python",
   "name": "python3"
  },
  "language_info": {
   "codemirror_mode": {
    "name": "ipython",
    "version": 3
   },
   "file_extension": ".py",
   "mimetype": "text/x-python",
   "name": "python",
   "nbconvert_exporter": "python",
   "pygments_lexer": "ipython3",
   "version": "3.8.8"
  }
 },
 "nbformat": 4,
 "nbformat_minor": 5
}
